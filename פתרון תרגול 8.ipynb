{
 "cells": [
  {
   "cell_type": "markdown",
   "id": "a353bb6f",
   "metadata": {},
   "source": [
    "# Linear regression"
   ]
  },
  {
   "cell_type": "markdown",
   "id": "32e44bdc",
   "metadata": {},
   "source": [
    "### We are going to find out how to predict the profits in a chain of restaurants in different towns in America by the size of the population in each town"
   ]
  },
  {
   "cell_type": "markdown",
   "id": "9dadaeaa",
   "metadata": {},
   "source": [
    "#### In the dataset we will use the population size and the profits have both deen divided by 10000."
   ]
  },
  {
   "cell_type": "code",
   "execution_count": 1,
   "id": "63e68375",
   "metadata": {},
   "outputs": [],
   "source": [
    "import numpy as np\n",
    "import pandas as pd\n",
    "import matplotlib.pyplot as plt\n",
    "import seaborn as sns\n",
    "%matplotlib inline "
   ]
  },
  {
   "cell_type": "markdown",
   "id": "03c7d5d4",
   "metadata": {},
   "source": [
    "#### We have a text file . Use pd.read_table."
   ]
  },
  {
   "cell_type": "code",
   "execution_count": 2,
   "id": "e125ca7c",
   "metadata": {},
   "outputs": [
    {
     "name": "stdout",
     "output_type": "stream",
     "text": [
      "               0\n",
      "0  6.1101,17.592\n",
      "1  5.5277,9.1302\n",
      "2  8.5186,13.662\n",
      "3  7.0032,11.854\n",
      "4  5.8598,6.8233\n",
      "(97, 1)\n"
     ]
    }
   ],
   "source": [
    "# There is no header.\n",
    "df =pd.read_table('profit.txt',header = None)\n",
    "print(df.head())\n",
    "print(df.shape)"
   ]
  },
  {
   "cell_type": "markdown",
   "id": "6173a1dc",
   "metadata": {},
   "source": [
    "#### Split the strings in to two columns using str.split with argument expand=True. Rename the columns as {0:'population',1:'profit'}"
   ]
  },
  {
   "cell_type": "code",
   "execution_count": 3,
   "id": "473ca459",
   "metadata": {},
   "outputs": [
    {
     "name": "stdout",
     "output_type": "stream",
     "text": [
      "<class 'pandas.core.frame.DataFrame'>\n",
      "RangeIndex: 97 entries, 0 to 96\n",
      "Data columns (total 2 columns):\n",
      " #   Column      Non-Null Count  Dtype \n",
      "---  ------      --------------  ----- \n",
      " 0   population  97 non-null     object\n",
      " 1   profit      97 non-null     object\n",
      "dtypes: object(2)\n",
      "memory usage: 1.6+ KB\n"
     ]
    }
   ],
   "source": [
    "df = df.iloc[:,0].str.split(',',expand=True).rename(columns={0:'population',1:'profit'})\n",
    "df.info()"
   ]
  },
  {
   "cell_type": "markdown",
   "id": "63eb9852",
   "metadata": {},
   "source": [
    "#### We need numerical data not strings! Make into floats"
   ]
  },
  {
   "cell_type": "code",
   "execution_count": 4,
   "id": "a068d447",
   "metadata": {},
   "outputs": [],
   "source": [
    "df = df.astype(float)"
   ]
  },
  {
   "cell_type": "markdown",
   "id": "c8f36898",
   "metadata": {},
   "source": [
    "#### Population will be the independent variable (save as array X)  and profit will be dependent variable (save as vector y)"
   ]
  },
  {
   "cell_type": "code",
   "execution_count": 5,
   "id": "92b563e0",
   "metadata": {},
   "outputs": [],
   "source": [
    "#df.values will convert dataframe to numpy object\n",
    "X = df.iloc[:,0:1].values\n",
    "y = df.iloc[:,1].values"
   ]
  },
  {
   "cell_type": "markdown",
   "id": "11c8e78a",
   "metadata": {},
   "source": [
    "#### Split into train and test sets (70:30)"
   ]
  },
  {
   "cell_type": "code",
   "execution_count": 6,
   "id": "a4a3ae1c",
   "metadata": {},
   "outputs": [],
   "source": [
    "from sklearn.model_selection import train_test_split\n",
    "\n",
    "#random_state = 7 (seed for reproducibility)\n",
    "X_train, X_test, y_train, y_test = train_test_split(X, y, test_size=0.3, random_state = 7 )\n"
   ]
  },
  {
   "cell_type": "markdown",
   "id": "1d9c9dd9",
   "metadata": {},
   "source": [
    "#### Make histograms for each of X_train and y_train"
   ]
  },
  {
   "cell_type": "code",
   "execution_count": 7,
   "id": "ab9da415",
   "metadata": {},
   "outputs": [
    {
     "data": {
      "text/plain": [
       "Text(0.5, 0, 'profit')"
      ]
     },
     "execution_count": 7,
     "metadata": {},
     "output_type": "execute_result"
    },
    {
     "data": {
      "image/png": "[encoded data removed]",
      "text/plain": [
       "<Figure size 432x288 with 2 Axes>"
      ]
     },
     "metadata": {
      "needs_background": "light"
     },
     "output_type": "display_data"
    }
   ],
   "source": [
    "fig,(ax1,ax2) = plt.subplots(1,2)\n",
    "ax1.hist(X_train)\n",
    "ax1.set_xlabel('population')\n",
    "ax2.hist(y_train)\n",
    "ax2.set_xlabel('profit')"
   ]
  },
  {
   "cell_type": "markdown",
   "id": "923efcc9",
   "metadata": {},
   "source": [
    "#### Make scatter plot for train set"
   ]
  },
  {
   "cell_type": "code",
   "execution_count": 8,
   "id": "376807d3",
   "metadata": {},
   "outputs": [
    {
     "data": {
      "text/plain": [
       "Text(0, 0.5, 'profit')"
      ]
     },
     "execution_count": 8,
     "metadata": {},
     "output_type": "execute_result"
    },
    {
     "data": {
      "image/png": "[encoded data removed]",
      "text/plain": [
       "<Figure size 432x288 with 1 Axes>"
      ]
     },
     "metadata": {
      "needs_background": "light"
     },
     "output_type": "display_data"
    }
   ],
   "source": [
    "plt.scatter(X_train, y_train)\n",
    "plt.xlabel('population')\n",
    "plt.ylabel('profit')"
   ]
  },
  {
   "cell_type": "markdown",
   "id": "93ea0bf0",
   "metadata": {},
   "source": [
    "#### Fit the linear regressor on the train set"
   ]
  },
  {
   "cell_type": "code",
   "execution_count": 9,
   "id": "796fc9f7",
   "metadata": {},
   "outputs": [
    {
     "data": {
      "text/plain": [
       "LinearRegression()"
      ]
     },
     "execution_count": 9,
     "metadata": {},
     "output_type": "execute_result"
    }
   ],
   "source": [
    "from sklearn.linear_model import LinearRegression\n",
    "lreg = LinearRegression()\n",
    "lreg.fit(X_train,y_train)"
   ]
  },
  {
   "cell_type": "markdown",
   "id": "6c077b2e",
   "metadata": {},
   "source": [
    "#### Use lreg.predict on the train set to add regression line to scatter plot"
   ]
  },
  {
   "cell_type": "code",
   "execution_count": 10,
   "id": "2350b64c",
   "metadata": {},
   "outputs": [
    {
     "data": {
      "text/plain": [
       "[<matplotlib.lines.Line2D at 0x29840a7f8b0>]"
      ]
     },
     "execution_count": 10,
     "metadata": {},
     "output_type": "execute_result"
    },
    {
     "data": {
      "image/png": "[encoded data removed]",
      "text/plain": [
       "<Figure size 432x288 with 1 Axes>"
      ]
     },
     "metadata": {
      "needs_background": "light"
     },
     "output_type": "display_data"
    }
   ],
   "source": [
    "\n",
    "plt.scatter(X_train, y_train)\n",
    "plt.xlabel('population')\n",
    "plt.ylabel('profit')\n",
    "plt.plot(X_train, lreg.predict(X_train), c='r')"
   ]
  },
  {
   "cell_type": "markdown",
   "id": "08edcb0d",
   "metadata": {},
   "source": [
    "#### Predict profits on test set. Make new plot for test data showing the test data, predictions and  regression line"
   ]
  },
  {
   "cell_type": "code",
   "execution_count": 11,
   "id": "e12fe0f6",
   "metadata": {},
   "outputs": [
    {
     "data": {
      "text/plain": [
       "[<matplotlib.lines.Line2D at 0x29840ae97f0>]"
      ]
     },
     "execution_count": 11,
     "metadata": {},
     "output_type": "execute_result"
    },
    {
     "data": {
      "image/png": "[encoded data removed]",
      "text/plain": [
       "<Figure size 432x288 with 1 Axes>"
      ]
     },
     "metadata": {
      "needs_background": "light"
     },
     "output_type": "display_data"
    }
   ],
   "source": [
    "y_pred = lreg.predict(X_test)\n",
    "\n",
    "plt.scatter(X_test,y_test)\n",
    "plt.scatter(X_test, y_pred, c='r')\n",
    "plt.xlabel('population')\n",
    "plt.ylabel('profit')\n",
    "plt.plot(X_train, lreg.predict(X_train), c='r')"
   ]
  },
  {
   "cell_type": "markdown",
   "id": "8ed62d7f",
   "metadata": {},
   "source": [
    "#### plot residuals"
   ]
  },
  {
   "cell_type": "code",
   "execution_count": 12,
   "id": "909c2690",
   "metadata": {},
   "outputs": [
    {
     "data": {
      "text/plain": [
       "Text(0, 0.5, 'residuals')"
      ]
     },
     "execution_count": 12,
     "metadata": {},
     "output_type": "execute_result"
    },
    {
     "data": {
      "image/png": "[encoded data removed]",
      "text/plain": [
       "<Figure size 432x288 with 1 Axes>"
      ]
     },
     "metadata": {
      "needs_background": "light"
     },
     "output_type": "display_data"
    }
   ],
   "source": [
    "plt.scatter(lreg.predict(X_train),y_train-lreg.predict(X_train))\n",
    "plt.hlines(y=0, xmin=2,xmax=23)\n",
    "plt.scatter(y_pred, y_test-y_pred, c='r')\n",
    "plt.xlabel('predicted profit')\n",
    "plt.ylabel('residuals')"
   ]
  },
  {
   "cell_type": "markdown",
   "id": "cbc51646",
   "metadata": {},
   "source": [
    "#### Calculate mse, mae and R^2"
   ]
  },
  {
   "cell_type": "code",
   "execution_count": 13,
   "id": "b38bc376",
   "metadata": {},
   "outputs": [
    {
     "name": "stdout",
     "output_type": "stream",
     "text": [
      "7.1339274016837795 2.6709412950650524 1.9276677341323374 0.5875056517670413\n"
     ]
    }
   ],
   "source": [
    "from sklearn.metrics import mean_squared_error,mean_absolute_error, r2_score\n",
    "mse = mean_squared_error(y_test, y_pred)\n",
    "rmse = mse**0.5\n",
    "mae = mean_absolute_error(y_test, y_pred)\n",
    "r2 = r2_score(y_test, y_pred)\n",
    "print(mse, rmse,mae,r2)"
   ]
  },
  {
   "cell_type": "markdown",
   "id": "5abb38db",
   "metadata": {},
   "source": [
    "#### Plot histogram with density plot of the test set residuals"
   ]
  },
  {
   "cell_type": "code",
   "execution_count": 21,
   "id": "03016296",
   "metadata": {},
   "outputs": [
    {
     "data": {
      "text/plain": [
       "<AxesSubplot:ylabel='Count'>"
      ]
     },
     "execution_count": 21,
     "metadata": {},
     "output_type": "execute_result"
    },
    {
     "data": {
      "image/png": "[encoded data removed]",
      "text/plain": [
       "<Figure size 432x288 with 1 Axes>"
      ]
     },
     "metadata": {
      "needs_background": "light"
     },
     "output_type": "display_data"
    }
   ],
   "source": [
    "sns.histplot(y_test-y_pred,kde=True)"
   ]
  },
  {
   "cell_type": "code",
   "execution_count": null,
   "id": "bde8820e",
   "metadata": {},
   "outputs": [],
   "source": []
  }
 ],
 "metadata": {
  "kernelspec": {
   "display_name": "Python 3",
   "language": "python",
   "name": "python3"
  },
  "language_info": {
   "codemirror_mode": {
    "name": "ipython",
    "version": 3
   },
   "file_extension": ".py",
   "mimetype": "text/x-python",
   "name": "python",
   "nbconvert_exporter": "python",
   "pygments_lexer": "ipython3",
   "version": "3.8.8"
  }
 },
 "nbformat": 4,
 "nbformat_minor": 5
}
